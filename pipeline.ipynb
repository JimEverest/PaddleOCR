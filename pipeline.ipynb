{
 "cells": [
  {
   "cell_type": "markdown",
   "metadata": {},
   "source": [
    "# RUN WAY"
   ]
  },
  {
   "cell_type": "code",
   "execution_count": 1,
   "metadata": {},
   "outputs": [],
   "source": [
    "from tools.infer.predict_system import run"
   ]
  },
  {
   "cell_type": "code",
   "execution_count": 2,
   "metadata": {},
   "outputs": [
    {
     "name": "stdout",
     "output_type": "stream",
     "text": [
      "[2023/12/20 18:29:27] ppocr INFO: In PP-OCRv3, rec_image_shape parameter defaults to '3, 48, 320', if you are using recognition model with PP-OCRv2 or an older version, please set --rec_image_shape='3,32,320\n",
      "[2023/12/20 18:29:27] ppocr DEBUG: dt_boxes num : 69, elapsed : 0.18650245666503906\n",
      "[2023/12/20 18:29:36] ppocr DEBUG: rec_res num  : 69, elapsed : 8.864979267120361\n",
      "[2023/12/20 18:29:36] ppocr DEBUG: 0  Predict time of ./doc/imgs/00018069.jpg: 9.052s\n",
      "[2023/12/20 18:29:36] ppocr DEBUG: 代号, 1.000\n",
      "[2023/12/20 18:29:36] ppocr DEBUG: 项目, 1.000\n",
      "[2023/12/20 18:29:36] ppocr DEBUG: 结果, 0.999\n",
      "[2023/12/20 18:29:36] ppocr DEBUG: 参考值, 1.000\n",
      "[2023/12/20 18:29:36] ppocr DEBUG: 单位, 1.000\n",
      "[2023/12/20 18:29:36] ppocr DEBUG: ALT, 0.997\n",
      "[2023/12/20 18:29:36] ppocr DEBUG: 谷丙转氨酶, 0.998\n",
      "[2023/12/20 18:29:36] ppocr DEBUG: 25.6, 0.998\n",
      "[2023/12/20 18:29:36] ppocr DEBUG: 0--40, 0.960\n",
      "[2023/12/20 18:29:36] ppocr DEBUG: U/L, 0.988\n",
      "[2023/12/20 18:29:36] ppocr DEBUG: TBIL, 0.995\n",
      "[2023/12/20 18:29:36] ppocr DEBUG: 总胆红素, 0.999\n",
      "[2023/12/20 18:29:36] ppocr DEBUG: 11.2, 0.996\n",
      "[2023/12/20 18:29:36] ppocr DEBUG: <20, 0.952\n",
      "[2023/12/20 18:29:36] ppocr DEBUG: umol/L, 0.960\n",
      "[2023/12/20 18:29:36] ppocr DEBUG: DBIL, 0.996\n",
      "[2023/12/20 18:29:36] ppocr DEBUG: 直接胆红素, 0.999\n",
      "[2023/12/20 18:29:36] ppocr DEBUG: 3.3, 0.996\n",
      "[2023/12/20 18:29:36] ppocr DEBUG: 0--7, 0.799\n",
      "[2023/12/20 18:29:36] ppocr DEBUG: umol/L, 0.949\n",
      "[2023/12/20 18:29:36] ppocr DEBUG: IBIL, 0.992\n",
      "[2023/12/20 18:29:36] ppocr DEBUG: 间接胆红素, 0.993\n",
      "[2023/12/20 18:29:36] ppocr DEBUG: 7.9, 0.997\n",
      "[2023/12/20 18:29:36] ppocr DEBUG: 1.5--15, 0.989\n",
      "[2023/12/20 18:29:36] ppocr DEBUG: umol/L, 0.923\n",
      "[2023/12/20 18:29:36] ppocr DEBUG: TP, 0.995\n",
      "[2023/12/20 18:29:36] ppocr DEBUG: 总蛋白, 1.000\n",
      "[2023/12/20 18:29:36] ppocr DEBUG: 58.9, 0.999\n",
      "[2023/12/20 18:29:36] ppocr DEBUG: 60--80, 0.985\n",
      "[2023/12/20 18:29:36] ppocr DEBUG: g/L, 0.989\n",
      "[2023/12/20 18:29:36] ppocr DEBUG: ALB, 0.999\n",
      "[2023/12/20 18:29:36] ppocr DEBUG: 白蛋白, 1.000\n",
      "[2023/12/20 18:29:36] ppocr DEBUG: 35.1, 0.998\n",
      "[2023/12/20 18:29:36] ppocr DEBUG: 33--55, 0.986\n",
      "[2023/12/20 18:29:36] ppocr DEBUG: g/L, 0.965\n",
      "[2023/12/20 18:29:36] ppocr DEBUG: GLO, 0.990\n",
      "[2023/12/20 18:29:36] ppocr DEBUG: 球蛋白, 0.998\n",
      "[2023/12/20 18:29:36] ppocr DEBUG: 23.8, 0.998\n",
      "[2023/12/20 18:29:36] ppocr DEBUG: 20--30, 0.993\n",
      "[2023/12/20 18:29:36] ppocr DEBUG: g/L, 0.938\n",
      "[2023/12/20 18:29:36] ppocr DEBUG: A/G, 0.994\n",
      "[2023/12/20 18:29:36] ppocr DEBUG: 白球比, 1.000\n",
      "[2023/12/20 18:29:36] ppocr DEBUG: 1.5, 0.997\n",
      "[2023/12/20 18:29:36] ppocr DEBUG: 1.5--2.5, 0.963\n",
      "[2023/12/20 18:29:36] ppocr DEBUG: ALP, 0.994\n",
      "[2023/12/20 18:29:36] ppocr DEBUG: 碱性磷酸酶, 0.999\n",
      "[2023/12/20 18:29:36] ppocr DEBUG: 93, 0.998\n",
      "[2023/12/20 18:29:36] ppocr DEBUG: 15--112, 0.988\n",
      "[2023/12/20 18:29:36] ppocr DEBUG: IU/L, 0.972\n",
      "[2023/12/20 18:29:36] ppocr DEBUG: GGT, 0.998\n",
      "[2023/12/20 18:29:36] ppocr DEBUG: 谷氨酰转肽酶, 0.991\n",
      "[2023/12/20 18:29:36] ppocr DEBUG: 14.3, 0.998\n",
      "[2023/12/20 18:29:36] ppocr DEBUG: <50, 0.966\n",
      "[2023/12/20 18:29:36] ppocr DEBUG: U/L, 0.987\n",
      "[2023/12/20 18:29:36] ppocr DEBUG: AST, 0.998\n",
      "[2023/12/20 18:29:36] ppocr DEBUG: 谷草转氨酶, 0.998\n",
      "[2023/12/20 18:29:36] ppocr DEBUG: 16.3, 0.998\n",
      "[2023/12/20 18:29:36] ppocr DEBUG: 8--40, 0.964\n",
      "[2023/12/20 18:29:36] ppocr DEBUG: U/L, 0.986\n",
      "[2023/12/20 18:29:36] ppocr DEBUG: LDH, 0.996\n",
      "[2023/12/20 18:29:36] ppocr DEBUG: 乳酸脱氢酶, 0.999\n",
      "[2023/12/20 18:29:36] ppocr DEBUG: 167, 0.998\n",
      "[2023/12/20 18:29:36] ppocr DEBUG: 114--240, 0.989\n",
      "[2023/12/20 18:29:36] ppocr DEBUG: U/L, 0.987\n",
      "[2023/12/20 18:29:36] ppocr DEBUG: ADA, 0.996\n",
      "[2023/12/20 18:29:36] ppocr DEBUG: 腺甘脱氨酶, 0.999\n",
      "[2023/12/20 18:29:36] ppocr DEBUG: 12.6, 0.998\n",
      "[2023/12/20 18:29:36] ppocr DEBUG: 4--24, 0.981\n",
      "[2023/12/20 18:29:36] ppocr DEBUG: U/L, 0.986\n",
      "[2023/12/20 18:29:36] ppocr DEBUG: The visualized image saved in ./inference_results\\00018069.jpg\n",
      "[2023/12/20 18:29:36] ppocr INFO: The predict total time is 9.146841287612915\n"
     ]
    }
   ],
   "source": [
    "#Lite models\n",
    "run(image_dir = './doc/imgs/00018069.jpg' , \n",
    "    det_model_dir='C://Users//Jim//.paddleocr//whl//det//ch//ch_PP-OCRv4_det_infer',\n",
    "    rec_model_dir = \"C://Users//Jim//.paddleocr//whl//rec//ch//ch_PP-OCRv4_rec_infer\",\n",
    "    use_angle_cls = False)"
   ]
  },
  {
   "cell_type": "code",
   "execution_count": 6,
   "metadata": {},
   "outputs": [
    {
     "name": "stdout",
     "output_type": "stream",
     "text": [
      "[2023/12/20 18:58:51] ppocr INFO: In PP-OCRv3, rec_image_shape parameter defaults to '3, 48, 320', if you are using recognition model with PP-OCRv2 or an older version, please set --rec_image_shape='3,32,320\n",
      "[2023/12/20 18:58:54] ppocr DEBUG: dt_boxes num : 73, elapsed : 3.1983482837677\n",
      "[2023/12/20 18:59:50] ppocr DEBUG: rec_res num  : 73, elapsed : 55.83746528625488\n",
      "[2023/12/20 18:59:50] ppocr DEBUG: 0  Predict time of ./doc/imgs/00018069.jpg: 59.043s\n",
      "[2023/12/20 18:59:50] ppocr DEBUG: 代号, 0.998\n",
      "[2023/12/20 18:59:50] ppocr DEBUG: 项目, 0.999\n",
      "[2023/12/20 18:59:50] ppocr DEBUG: 结果, 0.999\n",
      "[2023/12/20 18:59:50] ppocr DEBUG: 参考值, 0.997\n",
      "[2023/12/20 18:59:50] ppocr DEBUG: 单位, 1.000\n",
      "[2023/12/20 18:59:50] ppocr DEBUG: ALT, 0.995\n",
      "[2023/12/20 18:59:50] ppocr DEBUG: 谷丙转氨酶, 0.998\n",
      "[2023/12/20 18:59:50] ppocr DEBUG: 25.6, 0.996\n",
      "[2023/12/20 18:59:50] ppocr DEBUG: 0--40, 0.957\n",
      "[2023/12/20 18:59:50] ppocr DEBUG: U/L, 0.977\n",
      "[2023/12/20 18:59:50] ppocr DEBUG: TBIL, 0.995\n",
      "[2023/12/20 18:59:50] ppocr DEBUG: 总胆红素, 1.000\n",
      "[2023/12/20 18:59:50] ppocr DEBUG: 11.2, 0.996\n",
      "[2023/12/20 18:59:50] ppocr DEBUG: <20, 0.913\n",
      "[2023/12/20 18:59:50] ppocr DEBUG: umol/L, 0.973\n",
      "[2023/12/20 18:59:50] ppocr DEBUG: DBIL, 0.997\n",
      "[2023/12/20 18:59:50] ppocr DEBUG: 直接胆红素, 0.999\n",
      "[2023/12/20 18:59:50] ppocr DEBUG: 3.3, 0.994\n",
      "[2023/12/20 18:59:50] ppocr DEBUG: 0--7, 0.947\n",
      "[2023/12/20 18:59:50] ppocr DEBUG: umol/L, 0.960\n",
      "[2023/12/20 18:59:50] ppocr DEBUG: IBIL, 0.995\n",
      "[2023/12/20 18:59:50] ppocr DEBUG: 间接胆红素, 0.999\n",
      "[2023/12/20 18:59:50] ppocr DEBUG: 7.9, 0.990\n",
      "[2023/12/20 18:59:50] ppocr DEBUG: 1.5--15, 0.959\n",
      "[2023/12/20 18:59:50] ppocr DEBUG: umol/L, 0.956\n",
      "[2023/12/20 18:59:50] ppocr DEBUG: TP, 0.986\n",
      "[2023/12/20 18:59:50] ppocr DEBUG: 总蛋白, 0.998\n",
      "[2023/12/20 18:59:50] ppocr DEBUG: 58.9, 0.997\n",
      "[2023/12/20 18:59:50] ppocr DEBUG: 60--80, 0.971\n",
      "[2023/12/20 18:59:50] ppocr DEBUG: g/L, 0.958\n",
      "[2023/12/20 18:59:50] ppocr DEBUG: ALB, 0.997\n",
      "[2023/12/20 18:59:50] ppocr DEBUG: 白蛋白, 0.999\n",
      "[2023/12/20 18:59:50] ppocr DEBUG: 35.1, 0.996\n",
      "[2023/12/20 18:59:50] ppocr DEBUG: 33-, 0.957\n",
      "[2023/12/20 18:59:50] ppocr DEBUG: --55, 0.925\n",
      "[2023/12/20 18:59:50] ppocr DEBUG: g/L, 0.920\n",
      "[2023/12/20 18:59:50] ppocr DEBUG: GLO, 0.970\n",
      "[2023/12/20 18:59:50] ppocr DEBUG: 球蛋白, 0.999\n",
      "[2023/12/20 18:59:50] ppocr DEBUG: 23.8, 0.996\n",
      "[2023/12/20 18:59:50] ppocr DEBUG: 20--30, 0.954\n",
      "[2023/12/20 18:59:50] ppocr DEBUG: g/L, 0.964\n",
      "[2023/12/20 18:59:50] ppocr DEBUG: A/G, 0.950\n",
      "[2023/12/20 18:59:50] ppocr DEBUG: 白球比, 0.988\n",
      "[2023/12/20 18:59:50] ppocr DEBUG: 1.5, 0.994\n",
      "[2023/12/20 18:59:50] ppocr DEBUG: 1.5--2.5, 0.958\n",
      "[2023/12/20 18:59:50] ppocr DEBUG: ALP, 0.995\n",
      "[2023/12/20 18:59:50] ppocr DEBUG: 碱性磷酸酶, 0.999\n",
      "[2023/12/20 18:59:50] ppocr DEBUG: 93, 0.998\n",
      "[2023/12/20 18:59:50] ppocr DEBUG: 15--112, 0.945\n",
      "[2023/12/20 18:59:50] ppocr DEBUG: IU/L, 0.975\n",
      "[2023/12/20 18:59:50] ppocr DEBUG: GGT, 0.990\n",
      "[2023/12/20 18:59:50] ppocr DEBUG: 谷氨酰转肽酶, 0.994\n",
      "[2023/12/20 18:59:50] ppocr DEBUG: 14.3, 0.997\n",
      "[2023/12/20 18:59:50] ppocr DEBUG: <50, 0.926\n",
      "[2023/12/20 18:59:50] ppocr DEBUG: U/L, 0.970\n",
      "[2023/12/20 18:59:50] ppocr DEBUG: AST, 0.996\n",
      "[2023/12/20 18:59:50] ppocr DEBUG: 谷草转氨酶, 0.999\n",
      "[2023/12/20 18:59:50] ppocr DEBUG: 16.3, 0.995\n",
      "[2023/12/20 18:59:50] ppocr DEBUG: 8, 0.998\n",
      "[2023/12/20 18:59:50] ppocr DEBUG: -40, 0.956\n",
      "[2023/12/20 18:59:50] ppocr DEBUG: U/L, 0.971\n",
      "[2023/12/20 18:59:50] ppocr DEBUG: LDH, 0.995\n",
      "[2023/12/20 18:59:50] ppocr DEBUG: 乳酸脱氢酶, 0.997\n",
      "[2023/12/20 18:59:50] ppocr DEBUG: 167, 0.998\n",
      "[2023/12/20 18:59:50] ppocr DEBUG: 114-, 0.970\n",
      "[2023/12/20 18:59:50] ppocr DEBUG: -240, 0.963\n",
      "[2023/12/20 18:59:50] ppocr DEBUG: U/L, 0.972\n",
      "[2023/12/20 18:59:50] ppocr DEBUG: ADA, 0.995\n",
      "[2023/12/20 18:59:50] ppocr DEBUG: 腺甘脱氨酶, 0.998\n",
      "[2023/12/20 18:59:50] ppocr DEBUG: 12.6, 0.995\n",
      "[2023/12/20 18:59:50] ppocr DEBUG: 4--24, 0.971\n",
      "[2023/12/20 18:59:50] ppocr DEBUG: U/L, 0.955\n",
      "[2023/12/20 18:59:50] ppocr DEBUG: The visualized image saved in ./inference_results\\00018069.jpg\n",
      "[2023/12/20 18:59:50] ppocr INFO: The predict total time is 59.12684464454651\n"
     ]
    }
   ],
   "source": [
    "#Server models\n",
    "run(image_dir = './doc/imgs/00018069.jpg' , \n",
    "    det_model_dir='C://AI//Models//paddleOCR//ch_PP-OCRv4_det_server_infer',\n",
    "    rec_model_dir = \"C://AI//Models//paddleOCR//ch_PP-OCRv4_rec_server_infer\",\n",
    "    use_angle_cls = False)\n"
   ]
  },
  {
   "cell_type": "code",
   "execution_count": 4,
   "metadata": {},
   "outputs": [
    {
     "name": "stdout",
     "output_type": "stream",
     "text": [
      "./doc/imgs/00018069.jpg\n"
     ]
    }
   ],
   "source": [
    "from types import SimpleNamespace\n",
    "d = {\n",
    "    'image_dir':'./doc/imgs/00018069.jpg',\n",
    "    'det_model_dir':'C://Users//Jim//.paddleocr//whl//det//ch//ch_PP-OCRv4_det_infer',\n",
    "    'rec_model_dir': 'C://Users//Jim//.paddleocr//whl//rec//ch//ch_PP-OCRv4_rec_infer',\n",
    "    'use_angle_cls': 'False'\n",
    "}\n",
    "args = SimpleNamespace(**d)\n",
    "print(args.image_dir)  # 输出 'value1'"
   ]
  },
  {
   "cell_type": "code",
   "execution_count": 5,
   "metadata": {},
   "outputs": [
    {
     "data": {
      "text/plain": [
       "types.SimpleNamespace"
      ]
     },
     "execution_count": 5,
     "metadata": {},
     "output_type": "execute_result"
    }
   ],
   "source": [
    "type(args)"
   ]
  },
  {
   "cell_type": "markdown",
   "metadata": {},
   "source": [
    "# Serving"
   ]
  },
  {
   "cell_type": "code",
   "execution_count": null,
   "metadata": {},
   "outputs": [],
   "source": [
    "# pip install paddle-serving-server\n",
    "# pip install paddle-serving-client"
   ]
  },
  {
   "cell_type": "code",
   "execution_count": 2,
   "metadata": {},
   "outputs": [
    {
     "ename": "ModuleNotFoundError",
     "evalue": "No module named 'params'",
     "output_type": "error",
     "traceback": [
      "\u001b[1;31m---------------------------------------------------------------------------\u001b[0m",
      "\u001b[1;31mModuleNotFoundError\u001b[0m                       Traceback (most recent call last)",
      "Cell \u001b[1;32mIn[2], line 10\u001b[0m\n\u001b[0;32m      8\u001b[0m \u001b[38;5;28;01mimport\u001b[39;00m \u001b[38;5;21;01mbase64\u001b[39;00m\n\u001b[0;32m      9\u001b[0m \u001b[38;5;28;01mfrom\u001b[39;00m \u001b[38;5;21;01mtools\u001b[39;00m\u001b[38;5;21;01m.\u001b[39;00m\u001b[38;5;21;01minfer\u001b[39;00m\u001b[38;5;21;01m.\u001b[39;00m\u001b[38;5;21;01mpredict_cls\u001b[39;00m \u001b[38;5;28;01mimport\u001b[39;00m TextClassifier\n\u001b[1;32m---> 10\u001b[0m \u001b[38;5;28;01mfrom\u001b[39;00m \u001b[38;5;21;01mparams\u001b[39;00m \u001b[38;5;28;01mimport\u001b[39;00m read_params\n\u001b[0;32m     12\u001b[0m global_args \u001b[38;5;241m=\u001b[39m read_params()\n\u001b[0;32m     13\u001b[0m \u001b[38;5;28;01mfrom\u001b[39;00m \u001b[38;5;21;01mpaddle_serving_server_gpu\u001b[39;00m\u001b[38;5;21;01m.\u001b[39;00m\u001b[38;5;21;01mweb_service\u001b[39;00m \u001b[38;5;28;01mimport\u001b[39;00m WebService\n",
      "\u001b[1;31mModuleNotFoundError\u001b[0m: No module named 'params'"
     ]
    }
   ],
   "source": [
    "from paddle_serving_client import Client\n",
    "import cv2\n",
    "import sys\n",
    "import numpy as np\n",
    "import os\n",
    "import time\n",
    "import re\n",
    "import base64\n",
    "from tools.infer.predict_cls import TextClassifier\n",
    "from params import read_params\n",
    "\n",
    "global_args = read_params()\n",
    "from paddle_serving_server_gpu.web_service import WebService\n"
   ]
  },
  {
   "cell_type": "code",
   "execution_count": null,
   "metadata": {},
   "outputs": [],
   "source": [
    "\n",
    "class TextClassifierHelper(TextClassifier):\n",
    "    def __init__(self, args):\n",
    "        self.cls_image_shape = [int(v) for v in args.cls_image_shape.split(\",\")]\n",
    "        self.cls_batch_num = args.rec_batch_num\n",
    "        self.label_list = args.label_list\n",
    "        self.cls_thresh = args.cls_thresh\n",
    "        self.fetch = [\n",
    "            \"save_infer_model/scale_0.tmp_0\", \"save_infer_model/scale_1.tmp_0\"\n",
    "        ]\n",
    "\n",
    "    def preprocess(self, img_list):\n",
    "        args = {}\n",
    "        img_num = len(img_list)\n",
    "        args[\"img_list\"] = img_list\n",
    "        # Calculate the aspect ratio of all text bars\n",
    "        width_list = []\n",
    "        for img in img_list:\n",
    "            width_list.append(img.shape[1] / float(img.shape[0]))\n",
    "        # Sorting can speed up the cls process\n",
    "        indices = np.argsort(np.array(width_list))\n",
    "        args[\"indices\"] = indices\n",
    "        cls_res = [['', 0.0]] * img_num\n",
    "        batch_num = self.cls_batch_num\n",
    "        predict_time = 0\n",
    "        beg_img_no, end_img_no = 0, img_num\n",
    "        norm_img_batch = []\n",
    "        max_wh_ratio = 0\n",
    "        for ino in range(beg_img_no, end_img_no):\n",
    "            h, w = img_list[indices[ino]].shape[0:2]\n",
    "            wh_ratio = w * 1.0 / h\n",
    "            max_wh_ratio = max(max_wh_ratio, wh_ratio)\n",
    "        for ino in range(beg_img_no, end_img_no):\n",
    "            norm_img = self.resize_norm_img(img_list[indices[ino]])\n",
    "            norm_img = norm_img[np.newaxis, :]\n",
    "            norm_img_batch.append(norm_img)\n",
    "        norm_img_batch = np.concatenate(norm_img_batch)\n",
    "        if img_num > 1:\n",
    "            feed = [{\n",
    "                \"image\": norm_img_batch[x]\n",
    "            } for x in range(norm_img_batch.shape[0])]\n",
    "        else:\n",
    "            feed = {\"image\": norm_img_batch[0]}\n",
    "        return feed, self.fetch, args\n",
    "\n",
    "    def postprocess(self, outputs, args):\n",
    "        prob_out = outputs[0]\n",
    "        label_out = outputs[1]\n",
    "        indices = args[\"indices\"]\n",
    "        img_list = args[\"img_list\"]\n",
    "        cls_res = [['', 0.0]] * len(label_out)\n",
    "        if len(label_out.shape) != 1:\n",
    "            prob_out, label_out = label_out, prob_out\n",
    "        for rno in range(len(label_out)):\n",
    "            label_idx = label_out[rno]\n",
    "            score = prob_out[rno][label_idx]\n",
    "            label = self.label_list[label_idx]\n",
    "            cls_res[indices[rno]] = [label, score]\n",
    "            if '180' in label and score > self.cls_thresh:\n",
    "                img_list[indices[rno]] = cv2.rotate(img_list[indices[rno]], 1)\n",
    "        return img_list, cls_res\n",
    "\n"
   ]
  },
  {
   "cell_type": "code",
   "execution_count": null,
   "metadata": {},
   "outputs": [],
   "source": [
    "\n",
    "class OCRService(WebService):\n",
    "    def init_rec(self):\n",
    "        self.text_classifier = TextClassifierHelper(global_args)\n",
    "\n",
    "    def preprocess(self, feed=[], fetch=[]):\n",
    "        # TODO: to handle batch rec images\n",
    "        img_list = []\n",
    "        for feed_data in feed:\n",
    "            data = base64.b64decode(feed_data[\"image\"].encode('utf8'))\n",
    "            data = np.fromstring(data, np.uint8)\n",
    "            im = cv2.imdecode(data, cv2.IMREAD_COLOR)\n",
    "            img_list.append(im)\n",
    "        feed, fetch, self.tmp_args = self.text_classifier.preprocess(img_list)\n",
    "        return feed, fetch\n",
    "\n",
    "    def postprocess(self, feed={}, fetch=[], fetch_map=None):\n",
    "        outputs = [fetch_map[x] for x in self.text_classifier.fetch]\n",
    "        for x in fetch_map.keys():\n",
    "            if \".lod\" in x:\n",
    "                self.tmp_args[x] = fetch_map[x]\n",
    "        _, rec_res = self.text_classifier.postprocess(outputs, self.tmp_args)\n",
    "        res = {\n",
    "            \"direction\": [x[0] for x in rec_res],\n",
    "            \"score\": [str(x[1]) for x in rec_res]\n",
    "        }\n",
    "        return res"
   ]
  },
  {
   "cell_type": "code",
   "execution_count": null,
   "metadata": {},
   "outputs": [],
   "source": [
    "if __name__ == \"__main__\":\n",
    "    ocr_service = OCRService(name=\"ocr\")\n",
    "    ocr_service.load_model_config(global_args.cls_model_dir)\n",
    "    ocr_service.init_rec()\n",
    "    if global_args.use_gpu:\n",
    "        ocr_service.prepare_server(\n",
    "            workdir=\"workdir\", port=9292, device=\"gpu\", gpuid=0)\n",
    "    else:\n",
    "        ocr_service.prepare_server(workdir=\"workdir\", port=9292, device=\"cpu\")\n",
    "    ocr_service.run_rpc_service()\n",
    "    ocr_service.run_web_service()"
   ]
  }
 ],
 "metadata": {
  "kernelspec": {
   "display_name": "ocr",
   "language": "python",
   "name": "python3"
  },
  "language_info": {
   "codemirror_mode": {
    "name": "ipython",
    "version": 3
   },
   "file_extension": ".py",
   "mimetype": "text/x-python",
   "name": "python",
   "nbconvert_exporter": "python",
   "pygments_lexer": "ipython3",
   "version": "3.9.18"
  }
 },
 "nbformat": 4,
 "nbformat_minor": 2
}
